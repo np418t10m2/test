{
  "nbformat": 4,
  "nbformat_minor": 0,
  "metadata": {
    "colab": {
      "name": "test.ipynb",
      "version": "0.3.2",
      "provenance": [],
      "include_colab_link": true
    },
    "kernelspec": {
      "name": "python3",
      "display_name": "Python 3"
    }
  },
  "cells": [
    {
      "cell_type": "markdown",
      "metadata": {
        "id": "view-in-github",
        "colab_type": "text"
      },
      "source": [
        "<a href=\"https://colab.research.google.com/github/np418t10m2/test/blob/master/test.ipynb\" target=\"_parent\"><img src=\"https://colab.research.google.com/assets/colab-badge.svg\" alt=\"Open In Colab\"/></a>"
      ]
    },
    {
      "metadata": {
        "id": "8nJlh7n4s-PH",
        "colab_type": "text"
      },
      "cell_type": "markdown",
      "source": [
        "# programig4\n",
        "1.   python3 [K-TechLaboゼミ用学習ノート](http://www.k-techlabo.org/blog2/?page_id=163)\n",
        "\n",
        "*   python3 intr [text 1](http://www.k-techlabo.org/www_python/python_main.pdf)\n",
        "*   python3 modules [module](http://www.k-techlabo.org/www_python/python_modules.pdf)\n",
        "\n",
        "\n",
        "\n",
        "\n"
      ]
    },
    {
      "metadata": {
        "id": "D_xJGaHmwXDY",
        "colab_type": "text"
      },
      "cell_type": "markdown",
      "source": [
        "#田中　太郎\n",
        "+ 21 years old\n",
        "* hobby \n",
        " * game\n",
        " + web surfin\n",
        "+ from Japan\n",
        "+ favorite site [niconico](https://www.nicovideo.jp)\n",
        "+ python tutorial [github](https://github.com/Akuli/python-tutorial)\n",
        "\n",
        "\n",
        "---\n",
        "**I love carry rice**\n"
      ]
    },
    {
      "metadata": {
        "id": "fJeZFpwztudV",
        "colab_type": "code",
        "outputId": "79bd1a3a-d0a3-49b7-bbee-97b15b315871",
        "colab": {
          "base_uri": "https://localhost:8080/",
          "height": 382
        }
      },
      "cell_type": "code",
      "source": [
        "import this"
      ],
      "execution_count": 0,
      "outputs": [
        {
          "output_type": "stream",
          "text": [
            "The Zen of Python, by Tim Peters\n",
            "\n",
            "Beautiful is better than ugly.\n",
            "Explicit is better than implicit.\n",
            "Simple is better than complex.\n",
            "Complex is better than complicated.\n",
            "Flat is better than nested.\n",
            "Sparse is better than dense.\n",
            "Readability counts.\n",
            "Special cases aren't special enough to break the rules.\n",
            "Although practicality beats purity.\n",
            "Errors should never pass silently.\n",
            "Unless explicitly silenced.\n",
            "In the face of ambiguity, refuse the temptation to guess.\n",
            "There should be one-- and preferably only one --obvious way to do it.\n",
            "Although that way may not be obvious at first unless you're Dutch.\n",
            "Now is better than never.\n",
            "Although never is often better than *right* now.\n",
            "If the implementation is hard to explain, it's a bad idea.\n",
            "If the implementation is easy to explain, it may be a good idea.\n",
            "Namespaces are one honking great idea -- let's do more of those!\n"
          ],
          "name": "stdout"
        }
      ]
    },
    {
      "metadata": {
        "id": "FA32Ex7205CP",
        "colab_type": "code",
        "outputId": "5021a601-9b90-409f-9ce9-6f890e6902ad",
        "colab": {
          "base_uri": "https://localhost:8080/",
          "height": 52
        }
      },
      "cell_type": "code",
      "source": [
        "あ = 1\n",
        "い = 2\n",
        "print(あ+い)\n",
        "print(い**い**い)"
      ],
      "execution_count": 0,
      "outputs": [
        {
          "output_type": "stream",
          "text": [
            "3\n",
            "16\n"
          ],
          "name": "stdout"
        }
      ]
    }
  ]
}